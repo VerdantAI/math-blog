{
 "cells": [
  {
   "cell_type": "markdown",
   "id": "f57b506f",
   "metadata": {},
   "source": [
    "# LNN Scratchpad\n",
    "\n",
    "Here I'll be messing with the [LNN Library](https://github.com/IBM/LNN) from IBM.  I want to recreate some [SWI](https://www.swi-prolog.org/) Prolog style queries as well work with their paradigm.  Hopefully this will be slightly useful to others playing with the library and, of course, to myself!"
   ]
  },
  {
   "cell_type": "code",
   "execution_count": 1,
   "id": "823e58ca",
   "metadata": {},
   "outputs": [],
   "source": [
    "import lnn"
   ]
  },
  {
   "cell_type": "markdown",
   "id": "9a4c1f4e",
   "metadata": {},
   "source": [
    "## Socrates \n",
    "\n",
    "He's a man baby, and that makes him mortal.  In prolog this is pretty straightforward. In Prolog, the predicates are \"backward\" to me.\n",
    "\n",
    "Nota bene: I understand the modern idiom is to use \"human\", but later on I want to mess with more predicates so I'm sticking with `man` for the moment.  Yay to trans rights, NB-rights, LGTQIA rights AND to concise coding.  Ain't about that right now.\n",
    "\n",
    "You will need a [db](db.pl) file to load with rules in the standard `swipl` fashion and I won't fight that shit.\n",
    "\n",
    "\n",
    "```\n",
    "> [db].\n",
    "True\n",
    "\n",
    "mortal(socrates).\n",
    "True\n",
    "```\n",
    "\n",
    "The LNN library is a bit more verbose. Also, they don't seem to have settled on a coding style guide yet, so I'm using the one from the [API documentation](https://ibm.github.io/LNN/usage.html) and not the [Tutorials](https://github.com/IBM/LNN/tree/master/tutorials).  Don't worry if makes 0 sense to you right now."
   ]
  },
  {
   "cell_type": "code",
   "execution_count": 2,
   "id": "b9638652",
   "metadata": {},
   "outputs": [
    {
     "name": "stdout",
     "output_type": "stream",
     "text": [
      "\n",
      "***************************************************************************\n",
      "                                LNN Model\n",
      "\n",
      "OPEN Exists: (∃0, Mortal(0))                                TRUE (1.0, 1.0)\n",
      "\n",
      "AXIOM ForAll: (∀0, (Man(0) → Mortal(0)))                    TRUE (1.0, 1.0)\n",
      "\n",
      "OPEN Implies: (Man(0) → Mortal(0)) \n",
      "'Socrates'                                                  TRUE (1.0, 1.0)\n",
      "\n",
      "OPEN Predicate: Mortal \n",
      "'Socrates'                                                  TRUE (1.0, 1.0)\n",
      "\n",
      "OPEN Predicate: Man \n",
      "'Socrates'                                                  TRUE (1.0, 1.0)\n",
      "\n",
      "***************************************************************************\n"
     ]
    }
   ],
   "source": [
    "# Create a model\n",
    "model = lnn.Model()\n",
    "\n",
    "# Create variables. Here I follow the Prolog convention of capitals, they like lowercase\n",
    "X = lnn.Variable('X')\n",
    "\n",
    "# Create some Predicates (has variables).\n",
    "Man, Mortal = lnn.Predicates('Man', 'Mortal')\n",
    "\n",
    "# Axioms\n",
    "Men_Are_Mortal = lnn.ForAll(X, lnn.Implies(Man(X), Mortal(X)))\n",
    "\n",
    "# What we want to ask\n",
    "who_dies = lnn.Exists(X, Mortal(X))\n",
    "\n",
    "# Add knowledge to the model\n",
    "model.add_knowledge(Man, Mortal, Men_Are_Mortal, who_dies)\n",
    "\n",
    "# Now add data about particular objects / records / people\n",
    "# Note this is classical logic, so the truth is basically just \"TRUE\" or \"FALSE\"\n",
    "model.add_data({\n",
    "    Man: {'Socrates': lnn.Fact.TRUE}\n",
    "})\n",
    "\n",
    "# RUN THAT BABY!!\n",
    "model.infer()\n",
    "\n",
    "# SHOW ME THE MONEY!!\n",
    "model.print()"
   ]
  },
  {
   "cell_type": "markdown",
   "id": "eb3f9ba8",
   "metadata": {},
   "source": [
    "So the model agrees that Socrates is mortal and we've re-created the Prolog statements.  Now let's check out why this is so much more verbose than Prolog."
   ]
  },
  {
   "cell_type": "markdown",
   "id": "2425bb59",
   "metadata": {},
   "source": [
    "## Socrates Is Fluid\n",
    "\n",
    "Now, I'm not here to teach you anything about [Real Valued Logic](https://en.wikipedia.org/wiki/%C5%81ukasiewicz_logic) other than it's a pretty integral part of [Neuro Symbolic Artificial Intelligence](https://en.wikipedia.org/wiki/Neuro-symbolic_AI), which happens to be my jam right now.  The idea is we can assign confidence to various kinda truthy statements, which means  *FUCK YEAH PROBABILITY THEORY*.  Get yourself a cup of coffee and a copy of [Durrett](https://bookshop.org/p/books/probability-theory-and-examples-rick-durrett/12965062?ean=9781108473682), super fun shit.\n",
    "\n",
    "Now we let Socrates have his/her/their own identity.  Run the whole thing again to keep the variables clean."
   ]
  },
  {
   "cell_type": "code",
   "execution_count": 3,
   "id": "31d5f69a",
   "metadata": {},
   "outputs": [
    {
     "name": "stdout",
     "output_type": "stream",
     "text": [
      "\n",
      "***************************************************************************\n",
      "                                LNN Model\n",
      "\n",
      "OPEN Exists: (∃0, Mortal(0))                       APPROX_UNKNOWN (0.4, 1.0)\n",
      "\n",
      "AXIOM ForAll: (∀0, (Man(0) → Mortal(0)))                    TRUE (1.0, 1.0)\n",
      "\n",
      "OPEN Implies: (Man(0) → Mortal(0)) \n",
      "'Socrates'                                                  TRUE (1.0, 1.0)\n",
      "\n",
      "OPEN Predicate: Mortal \n",
      "'Socrates'                                         APPROX_UNKNOWN (0.4, 1.0)\n",
      "\n",
      "OPEN Predicate: Man \n",
      "'Socrates'                                         APPROX_UNKNOWN (0.4, 0.7)\n",
      "\n",
      "***************************************************************************\n"
     ]
    }
   ],
   "source": [
    "# Create a model\n",
    "model = lnn.Model()\n",
    "\n",
    "# Create variables. Here I follow the Prolog convention of capitals, they like lowercase\n",
    "X = lnn.Variable('X')\n",
    "\n",
    "# Create some Predicates (has variables).\n",
    "Man, Mortal = lnn.Predicates('Man', 'Mortal')\n",
    "\n",
    "# Axioms\n",
    "Men_Are_Mortal = lnn.ForAll(X, lnn.Implies(Man(X), Mortal(X)))\n",
    "\n",
    "# What we want to ask\n",
    "who_dies = lnn.Exists(X, Mortal(X))\n",
    "\n",
    "# Add knowledge to the model\n",
    "model.add_knowledge(Man, Mortal, Men_Are_Mortal, who_dies)\n",
    "\n",
    "# Now add data about particular objects / records / people\n",
    "model.add_data({\n",
    "    Man: {'Socrates': (0.4, 0.7)}\n",
    "})\n",
    "\n",
    "# RUN THAT BABY!!\n",
    "model.infer()\n",
    "\n",
    "# SHOW ME THE MONEY!!\n",
    "model.print()"
   ]
  },
  {
   "cell_type": "markdown",
   "id": "8daefe5d",
   "metadata": {},
   "source": [
    "So now Socrates is mortal if he is a Man, which he is questioning.  We don't have an answer if Socrates is not a Man, because we don't know if Women are mortal yet."
   ]
  },
  {
   "cell_type": "code",
   "execution_count": 4,
   "id": "2f52f13e",
   "metadata": {},
   "outputs": [
    {
     "name": "stdout",
     "output_type": "stream",
     "text": [
      "\n",
      "***************************************************************************\n",
      "                                LNN Model\n",
      "\n",
      "OPEN Exists: (∃0, Mortal(0))                                TRUE (1.0, 1.0)\n",
      "\n",
      "AXIOM ForAll: (∀0, (Woman(0) → Mortal(0)))                  TRUE (1.0, 1.0)\n",
      "\n",
      "OPEN Implies: (Woman(0) → Mortal(0)) \n",
      "'Socrates'                                                  TRUE (1.0, 1.0)\n",
      "'Plato'                                                     TRUE (1.0, 1.0)\n",
      "\n",
      "AXIOM ForAll: (∀0, (Man(0) → Mortal(0)))                    TRUE (1.0, 1.0)\n",
      "\n",
      "OPEN Implies: (Man(0) → Mortal(0)) \n",
      "'Socrates'                                                  TRUE (1.0, 1.0)\n",
      "'Plato'                                                     TRUE (1.0, 1.0)\n",
      "\n",
      "OPEN Predicate: Mortal \n",
      "'Socrates'                                         APPROX_UNKNOWN (0.4, 1.0)\n",
      "'Plato'                                              APPROX_TRUE (0.8, 1.0)\n",
      "\n",
      "OPEN Predicate: Man \n",
      "'Socrates'                                         APPROX_UNKNOWN (0.4, 0.7)\n",
      "'Plato'                                              APPROX_TRUE (0.8, 1.0)\n",
      "\n",
      "OPEN Predicate: Woman \n",
      "'Socrates'                                         APPROX_UNKNOWN (0.0, 0.5)\n",
      "'Plato'                                                  UNKNOWN (0.0, 1.0)\n",
      "\n",
      "***************************************************************************\n"
     ]
    }
   ],
   "source": [
    "# Create a model\n",
    "model = lnn.Model()\n",
    "\n",
    "# Create variables. Here I follow the Prolog convention of capitals, they like lowercase\n",
    "X = lnn.Variable('X')\n",
    "\n",
    "# Create some Predicates (has variables).\n",
    "Woman, Man, Mortal = lnn.Predicates('Woman', 'Man', 'Mortal')\n",
    "\n",
    "# Axioms\n",
    "Men_Are_Mortal = lnn.ForAll(X, lnn.Implies(Man(X), Mortal(X)))\n",
    "Women_Are_Mortal = lnn.ForAll(X, lnn.Implies(Woman(X), Mortal(X)))\n",
    "\n",
    "# What we want to ask\n",
    "who_dies = lnn.Exists(X, Mortal(X))\n",
    "\n",
    "# Add knowledge to the model\n",
    "model.add_knowledge(Woman, Man, Mortal, Men_Are_Mortal, Women_Are_Mortal, who_dies)\n",
    "\n",
    "# Now add data about particular objects / records / people\n",
    "model.add_data({\n",
    "    Man: {'Socrates': (0.4, 0.7), 'Plato': (0.8, 1.0)},\n",
    "    Woman: {'Socrates': (0, 0.5)}\n",
    "})\n",
    "\n",
    "# RUN THAT BABY!!\n",
    "model.infer()\n",
    "\n",
    "# SHOW ME THE MONEY!!\n",
    "model.print()"
   ]
  },
  {
   "cell_type": "markdown",
   "id": "5b595ed0",
   "metadata": {},
   "source": [
    "If you ask me, this is pretty fun.  Socrates stil has a lot of questioning to do before he comes out as a `Mortal`."
   ]
  },
  {
   "cell_type": "markdown",
   "id": "7a411bb1",
   "metadata": {},
   "source": [
    "# Short Skirt, Long Jacket\n",
    "\n",
    "Turns out some men are just too picky for their own damn good, and the guys from Cake made a nice [satire](https://www.youtube.com/watch?v=X5KmB8Laemg)"
   ]
  },
  {
   "cell_type": "code",
   "execution_count": 5,
   "id": "353c0274",
   "metadata": {},
   "outputs": [
    {
     "name": "stdout",
     "output_type": "stream",
     "text": [
      "\n",
      "***************************************************************************\n",
      "                                LNN Model\n",
      "\n",
      "OPEN And: (FingernailsShineLikeJustice(0) ∧ LongSkirt(1)) \n",
      "\n",
      "OPEN Predicate: LongSkirt \n",
      "\n",
      "OPEN Predicate: FingernailsShineLikeJustice \n",
      "'Alice'                                                     TRUE (1.0, 1.0)\n",
      "\n",
      "***************************************************************************\n"
     ]
    }
   ],
   "source": [
    "# Create a model\n",
    "model = lnn.Model()\n",
    "\n",
    "# Create variables. Here I follow the Prolog convention of capitals, they like lowercase\n",
    "X = lnn.Variable('X')\n",
    "\n",
    "\n",
    "FingernailsShineLikeJustice, Skirt = lnn.Predicates(\"FingernailsShineLikeJustice\", \"LongSkirt\")\n",
    "\n",
    "# Axioms\n",
    "\n",
    "# Predicates direct to model?  Seems easier\n",
    "model.add_knowledge(\n",
    "    FingernailsShineLikeJustice, LongSkirt,\n",
    "    lnn.And(FingernailsShineLikeJustice, LongSkirt)\n",
    ")\n",
    "\n",
    "# Add some candidates (data)\n",
    "model.add_data({\n",
    "    FingernailsShineLikeJustice: {'Alice': lnn.Fact.TRUE}\n",
    "})\n",
    "\n",
    "# Run that Baby!\n",
    "model.infer()\n",
    "\n",
    "# SHOW ME THE MONEY!\n",
    "model.print()"
   ]
  },
  {
   "cell_type": "markdown",
   "id": "449781c6",
   "metadata": {},
   "source": [
    "My life is going to be so much easier if we can get the models built by marshalling JSON.  I'm sure there is a way, but grrr.."
   ]
  },
  {
   "cell_type": "code",
   "execution_count": null,
   "id": "20a7d272",
   "metadata": {},
   "outputs": [],
   "source": []
  },
  {
   "cell_type": "code",
   "execution_count": 4,
   "id": "5c935c4f",
   "metadata": {},
   "outputs": [
    {
     "ename": "AttributeError",
     "evalue": "'str' object has no attribute 'propositional'",
     "output_type": "error",
     "traceback": [
      "\u001b[0;31m---------------------------------------------------------------------------\u001b[0m",
      "\u001b[0;31mAttributeError\u001b[0m                            Traceback (most recent call last)",
      "Cell \u001b[0;32mIn [4], line 21\u001b[0m\n\u001b[1;32m      7\u001b[0m preds \u001b[38;5;241m=\u001b[39m [\n\u001b[1;32m      8\u001b[0m     \u001b[38;5;124m'\u001b[39m\u001b[38;5;124mFingernailsShineLikeJustice\u001b[39m\u001b[38;5;124m'\u001b[39m, \u001b[38;5;124m'\u001b[39m\u001b[38;5;124mShortSkirt\u001b[39m\u001b[38;5;124m'\u001b[39m\n\u001b[1;32m      9\u001b[0m ]\n\u001b[1;32m     11\u001b[0m \u001b[38;5;66;03m#for p in preds:\u001b[39;00m\n\u001b[1;32m     12\u001b[0m \u001b[38;5;66;03m#    globals()[p] = lnn.Predicate(p)\u001b[39;00m\n\u001b[1;32m     13\u001b[0m \n\u001b[0;32m   (...)\u001b[0m\n\u001b[1;32m     17\u001b[0m \n\u001b[1;32m     18\u001b[0m \u001b[38;5;66;03m# Predicates direct to model?  Seems easier\u001b[39;00m\n\u001b[1;32m     19\u001b[0m model\u001b[38;5;241m.\u001b[39madd_knowledge(\n\u001b[1;32m     20\u001b[0m     \u001b[38;5;241m*\u001b[39m[lnn\u001b[38;5;241m.\u001b[39mPredicate(p) \u001b[38;5;28;01mfor\u001b[39;00m p \u001b[38;5;129;01min\u001b[39;00m preds],\n\u001b[0;32m---> 21\u001b[0m     \u001b[43mlnn\u001b[49m\u001b[38;5;241;43m.\u001b[39;49m\u001b[43mAnd\u001b[49m\u001b[43m(\u001b[49m\u001b[38;5;124;43m'\u001b[39;49m\u001b[38;5;124;43mFingernailsShineLikeJustice\u001b[39;49m\u001b[38;5;124;43m'\u001b[39;49m\u001b[43m,\u001b[49m\u001b[43m \u001b[49m\u001b[38;5;124;43m'\u001b[39;49m\u001b[38;5;124;43mShortSkirt\u001b[39;49m\u001b[38;5;124;43m'\u001b[39;49m\u001b[43m)\u001b[49m\n\u001b[1;32m     22\u001b[0m )\n\u001b[1;32m     24\u001b[0m \u001b[38;5;66;03m# Add some candidates (data)\u001b[39;00m\n\u001b[1;32m     25\u001b[0m model\u001b[38;5;241m.\u001b[39madd_data({\n\u001b[1;32m     26\u001b[0m     FingernailsShineLikeJustice: {\u001b[38;5;124m'\u001b[39m\u001b[38;5;124mAlice\u001b[39m\u001b[38;5;124m'\u001b[39m: lnn\u001b[38;5;241m.\u001b[39mFact\u001b[38;5;241m.\u001b[39mTRUE}\n\u001b[1;32m     27\u001b[0m })\n",
      "File \u001b[0;32m~/src/math-blog/nesy/env/lib/python3.11/site-packages/lnn/symbolic/logic/n_ary_neuron.py:61\u001b[0m, in \u001b[0;36mAnd.__init__\u001b[0;34m(self, *formula, **kwds)\u001b[0m\n\u001b[1;32m     57\u001b[0m kwds\u001b[38;5;241m.\u001b[39msetdefault(\u001b[38;5;124m\"\u001b[39m\u001b[38;5;124mactivation\u001b[39m\u001b[38;5;124m\"\u001b[39m, {})\n\u001b[1;32m     58\u001b[0m \u001b[38;5;28mself\u001b[39m\u001b[38;5;241m.\u001b[39mconnective_str \u001b[38;5;241m=\u001b[39m \u001b[38;5;28mself\u001b[39m\u001b[38;5;241m.\u001b[39mget_connective_str(\n\u001b[1;32m     59\u001b[0m     kwds[\u001b[38;5;124m\"\u001b[39m\u001b[38;5;124mactivation\u001b[39m\u001b[38;5;124m\"\u001b[39m]\u001b[38;5;241m.\u001b[39mget(\u001b[38;5;124m\"\u001b[39m\u001b[38;5;124mtype\u001b[39m\u001b[38;5;124m\"\u001b[39m, \u001b[38;5;28;01mNone\u001b[39;00m)\n\u001b[1;32m     60\u001b[0m )\n\u001b[0;32m---> 61\u001b[0m \u001b[38;5;28;43msuper\u001b[39;49m\u001b[43m(\u001b[49m\u001b[43m)\u001b[49m\u001b[38;5;241;43m.\u001b[39;49m\u001b[38;5;21;43m__init__\u001b[39;49m\u001b[43m(\u001b[49m\u001b[38;5;241;43m*\u001b[39;49m\u001b[43mformula\u001b[49m\u001b[43m,\u001b[49m\u001b[43m \u001b[49m\u001b[38;5;241;43m*\u001b[39;49m\u001b[38;5;241;43m*\u001b[39;49m\u001b[43mkwds\u001b[49m\u001b[43m)\u001b[49m\n",
      "File \u001b[0;32m~/src/math-blog/nesy/env/lib/python3.11/site-packages/lnn/symbolic/logic/n_ary_neuron.py:21\u001b[0m, in \u001b[0;36m_NAryNeuron.__init__\u001b[0;34m(self, *formula, **kwds)\u001b[0m\n\u001b[1;32m     20\u001b[0m \u001b[38;5;28;01mdef\u001b[39;00m \u001b[38;5;21m__init__\u001b[39m(\u001b[38;5;28mself\u001b[39m, \u001b[38;5;241m*\u001b[39mformula, \u001b[38;5;241m*\u001b[39m\u001b[38;5;241m*\u001b[39mkwds):\n\u001b[0;32m---> 21\u001b[0m     \u001b[38;5;28;43msuper\u001b[39;49m\u001b[43m(\u001b[49m\u001b[43m)\u001b[49m\u001b[38;5;241;43m.\u001b[39;49m\u001b[38;5;21;43m__init__\u001b[39;49m\u001b[43m(\u001b[49m\u001b[38;5;241;43m*\u001b[39;49m\u001b[43mformula\u001b[49m\u001b[43m,\u001b[49m\u001b[43m \u001b[49m\u001b[43marity\u001b[49m\u001b[38;5;241;43m=\u001b[39;49m\u001b[38;5;28;43mlen\u001b[39;49m\u001b[43m(\u001b[49m\u001b[43mformula\u001b[49m\u001b[43m)\u001b[49m\u001b[43m,\u001b[49m\u001b[43m \u001b[49m\u001b[38;5;241;43m*\u001b[39;49m\u001b[38;5;241;43m*\u001b[39;49m\u001b[43mkwds\u001b[49m\u001b[43m)\u001b[49m\n",
      "File \u001b[0;32m~/src/math-blog/nesy/env/lib/python3.11/site-packages/lnn/symbolic/logic/connective_neuron.py:38\u001b[0m, in \u001b[0;36m_ConnectiveNeuron.__init__\u001b[0;34m(self, *formula, **kwds)\u001b[0m\n\u001b[1;32m     37\u001b[0m \u001b[38;5;28;01mdef\u001b[39;00m \u001b[38;5;21m__init__\u001b[39m(\u001b[38;5;28mself\u001b[39m, \u001b[38;5;241m*\u001b[39mformula, \u001b[38;5;241m*\u001b[39m\u001b[38;5;241m*\u001b[39mkwds):\n\u001b[0;32m---> 38\u001b[0m     \u001b[38;5;28;43msuper\u001b[39;49m\u001b[43m(\u001b[49m\u001b[43m)\u001b[49m\u001b[38;5;241;43m.\u001b[39;49m\u001b[38;5;21;43m__init__\u001b[39;49m\u001b[43m(\u001b[49m\u001b[38;5;241;43m*\u001b[39;49m\u001b[43mformula\u001b[49m\u001b[43m,\u001b[49m\u001b[43m \u001b[49m\u001b[38;5;241;43m*\u001b[39;49m\u001b[38;5;241;43m*\u001b[39;49m\u001b[43mkwds\u001b[49m\u001b[43m)\u001b[49m\n\u001b[1;32m     39\u001b[0m     kwds\u001b[38;5;241m.\u001b[39msetdefault(\u001b[38;5;124m\"\u001b[39m\u001b[38;5;124marity\u001b[39m\u001b[38;5;124m\"\u001b[39m, \u001b[38;5;28mself\u001b[39m\u001b[38;5;241m.\u001b[39marity)\n\u001b[1;32m     40\u001b[0m     kwds\u001b[38;5;241m.\u001b[39msetdefault(\u001b[38;5;124m\"\u001b[39m\u001b[38;5;124mpropositional\u001b[39m\u001b[38;5;124m\"\u001b[39m, \u001b[38;5;28mself\u001b[39m\u001b[38;5;241m.\u001b[39mpropositional)\n",
      "File \u001b[0;32m~/src/math-blog/nesy/env/lib/python3.11/site-packages/lnn/symbolic/logic/connective_formula.py:17\u001b[0m, in \u001b[0;36m_ConnectiveFormula.__init__\u001b[0;34m(self, *formula, **kwds)\u001b[0m\n\u001b[1;32m     16\u001b[0m \u001b[38;5;28;01mdef\u001b[39;00m \u001b[38;5;21m__init__\u001b[39m(\u001b[38;5;28mself\u001b[39m, \u001b[38;5;241m*\u001b[39mformula: Formula, \u001b[38;5;241m*\u001b[39m\u001b[38;5;241m*\u001b[39mkwds):\n\u001b[0;32m---> 17\u001b[0m     \u001b[38;5;28;43msuper\u001b[39;49m\u001b[43m(\u001b[49m\u001b[43m)\u001b[49m\u001b[38;5;241;43m.\u001b[39;49m\u001b[38;5;21;43m__init__\u001b[39;49m\u001b[43m(\u001b[49m\u001b[38;5;241;43m*\u001b[39;49m\u001b[43mformula\u001b[49m\u001b[43m,\u001b[49m\u001b[43m \u001b[49m\u001b[38;5;241;43m*\u001b[39;49m\u001b[38;5;241;43m*\u001b[39;49m\u001b[43mkwds\u001b[49m\u001b[43m)\u001b[49m\n",
      "File \u001b[0;32m~/src/math-blog/nesy/env/lib/python3.11/site-packages/lnn/symbolic/logic/formula.py:61\u001b[0m, in \u001b[0;36mFormula.__init__\u001b[0;34m(self, name, arity, *formulae, **kwds)\u001b[0m\n\u001b[1;32m     59\u001b[0m \u001b[38;5;28mself\u001b[39m\u001b[38;5;241m.\u001b[39mpropositional: \u001b[38;5;28mbool\u001b[39m \u001b[38;5;241m=\u001b[39m kwds\u001b[38;5;241m.\u001b[39mget(\u001b[38;5;124m\"\u001b[39m\u001b[38;5;124mpropositional\u001b[39m\u001b[38;5;124m\"\u001b[39m)\n\u001b[1;32m     60\u001b[0m \u001b[38;5;28mself\u001b[39m\u001b[38;5;241m.\u001b[39mvariables: Tuple[Variable, \u001b[38;5;241m.\u001b[39m\u001b[38;5;241m.\u001b[39m\u001b[38;5;241m.\u001b[39m] \u001b[38;5;241m=\u001b[39m kwds\u001b[38;5;241m.\u001b[39mget(\u001b[38;5;124m\"\u001b[39m\u001b[38;5;124mvariables\u001b[39m\u001b[38;5;124m\"\u001b[39m)\n\u001b[0;32m---> 61\u001b[0m \u001b[38;5;28;43mself\u001b[39;49m\u001b[38;5;241;43m.\u001b[39;49m\u001b[43m_inherit_from_subformulae\u001b[49m\u001b[43m(\u001b[49m\u001b[38;5;241;43m*\u001b[39;49m\u001b[43mformulae\u001b[49m\u001b[43m)\u001b[49m\n\u001b[1;32m     63\u001b[0m \u001b[38;5;66;03m# formula naming\u001b[39;00m\n\u001b[1;32m     64\u001b[0m \u001b[38;5;28;01mif\u001b[39;00m _isinstance(\u001b[38;5;28mself\u001b[39m, \u001b[38;5;124m\"\u001b[39m\u001b[38;5;124m_LeafFormula\u001b[39m\u001b[38;5;124m\"\u001b[39m):\n",
      "File \u001b[0;32m~/src/math-blog/nesy/env/lib/python3.11/site-packages/lnn/symbolic/logic/formula.py:1007\u001b[0m, in \u001b[0;36mFormula._inherit_from_subformulae\u001b[0;34m(self, *subformula)\u001b[0m\n\u001b[1;32m    998\u001b[0m     \u001b[38;5;28mself\u001b[39m\u001b[38;5;241m.\u001b[39moperands\u001b[38;5;241m.\u001b[39mappend(f[\u001b[38;5;241m0\u001b[39m])\n\u001b[1;32m   1000\u001b[0m \u001b[38;5;66;03m# automatically inherit variable remapping from `uncalled` operands\u001b[39;00m\n\u001b[1;32m   1001\u001b[0m \u001b[38;5;66;03m#   for higher level connective formulae:\u001b[39;00m\n\u001b[1;32m   1002\u001b[0m \u001b[38;5;66;03m#\u001b[39;00m\n\u001b[0;32m   (...)\u001b[0m\n\u001b[1;32m   1005\u001b[0m \u001b[38;5;66;03m#     ```\u001b[39;00m\n\u001b[1;32m   1006\u001b[0m \u001b[38;5;28;01melse\u001b[39;00m:\n\u001b[0;32m-> 1007\u001b[0m     \u001b[38;5;28;01mif\u001b[39;00m \u001b[38;5;129;01mnot\u001b[39;00m \u001b[43mf\u001b[49m\u001b[38;5;241;43m.\u001b[39;49m\u001b[43mpropositional\u001b[49m:\n\u001b[1;32m   1008\u001b[0m         _var_remap[slot] \u001b[38;5;241m=\u001b[39m f\u001b[38;5;241m.\u001b[39munique_vars\n\u001b[1;32m   1009\u001b[0m         _operand_vars[slot] \u001b[38;5;241m=\u001b[39m f\u001b[38;5;241m.\u001b[39munique_vars\n",
      "\u001b[0;31mAttributeError\u001b[0m: 'str' object has no attribute 'propositional'"
     ]
    }
   ],
   "source": [
    "# Create a model\n",
    "model = lnn.Model()\n",
    "\n",
    "# Create variables. Here I follow the Prolog convention of capitals, they like lowercase\n",
    "X = lnn.Variable('X')\n",
    "\n",
    "preds = [\n",
    "    'FingernailsShineLikeJustice', 'ShortSkirt'\n",
    "]\n",
    "\n",
    "\n",
    "# Axioms\n",
    "\n",
    "# Predicates direct to model?  Seems easier\n",
    "model.add_knowledge(\n",
    "    *[lnn.Predicate(p) for p in preds],\n",
    "    lnn.And('FingernailsShineLikeJustice', 'ShortSkirt')\n",
    ")\n",
    "\n",
    "# Add some candidates (data)\n",
    "model.add_data({\n",
    "    FingernailsShineLikeJustice: {'Alice': lnn.Fact.TRUE}\n",
    "})\n",
    "\n",
    "# Run that Baby!\n",
    "model.infer()\n",
    "\n",
    "# SHOW ME THE MONEY!\n",
    "model.print()"
   ]
  },
  {
   "cell_type": "code",
   "execution_count": null,
   "id": "341d1c33",
   "metadata": {},
   "outputs": [],
   "source": []
  }
 ],
 "metadata": {
  "kernelspec": {
   "display_name": "Python 3 (ipykernel)",
   "language": "python",
   "name": "python3"
  },
  "language_info": {
   "codemirror_mode": {
    "name": "ipython",
    "version": 3
   },
   "file_extension": ".py",
   "mimetype": "text/x-python",
   "name": "python",
   "nbconvert_exporter": "python",
   "pygments_lexer": "ipython3",
   "version": "3.11.0"
  }
 },
 "nbformat": 4,
 "nbformat_minor": 5
}
