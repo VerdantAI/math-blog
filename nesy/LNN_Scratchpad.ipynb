{
 "cells": [
  {
   "cell_type": "markdown",
   "id": "f57b506f",
   "metadata": {},
   "source": [
    "# LNN Scratchpad\n",
    "\n",
    "Here I'll be messing with the [LNN Library](https://github.com/IBM/LNN) from IBM.  I want to recreate some [SWI](https://www.swi-prolog.org/) Prolog style queries as well work with their paradigm.  Hopefully this will be slightly useful to others playing with the library and, of course, to myself!"
   ]
  },
  {
   "cell_type": "code",
   "execution_count": 1,
   "id": "823e58ca",
   "metadata": {},
   "outputs": [],
   "source": [
    "import lnn"
   ]
  },
  {
   "cell_type": "markdown",
   "id": "9a4c1f4e",
   "metadata": {},
   "source": [
    "## Socrates \n",
    "\n",
    "He's a man baby, and that makes him mortal.  In prolog this is pretty straightforward. In Prolog, the predicates are \"backward\" to me.\n",
    "\n",
    "Nota bene: I understand the modern idiom is to use \"human\", but later on I want to mess with more predicates so I'm sticking with `man` for the moment.  Yay to trans rights, NB-rights, LGTQIA rights AND to concise coding.  Ain't about that right now.\n",
    "\n",
    "You will need a [db](db.pl) file to load with rules in the standard `swipl` fashion and I won't fight that shit.\n",
    "\n",
    "\n",
    "```\n",
    "> [db].\n",
    "True\n",
    "\n",
    "mortal(socrates).\n",
    "True\n",
    "```\n",
    "\n",
    "The LNN library is a bit more verbose. Also, they don't seem to have settled on a coding style guide yet, so I'm using the one from the [API documentation](https://ibm.github.io/LNN/usage.html) and not the [Tutorials](https://github.com/IBM/LNN/tree/master/tutorials).  Don't worry if makes 0 sense to you right now."
   ]
  },
  {
   "cell_type": "code",
   "execution_count": 15,
   "id": "b9638652",
   "metadata": {},
   "outputs": [
    {
     "name": "stdout",
     "output_type": "stream",
     "text": [
      "\n",
      "***************************************************************************\n",
      "                                LNN Model\n",
      "\n",
      "OPEN Exists: (∃0, Mortal(0))                                TRUE (1.0, 1.0)\n",
      "\n",
      "AXIOM ForAll: (∀0, (Man(0) → Mortal(0)))                    TRUE (1.0, 1.0)\n",
      "\n",
      "OPEN Implies: (Man(0) → Mortal(0)) \n",
      "'Socrates'                                                  TRUE (1.0, 1.0)\n",
      "\n",
      "OPEN Predicate: Mortal \n",
      "'Socrates'                                                  TRUE (1.0, 1.0)\n",
      "\n",
      "OPEN Predicate: Man \n",
      "'Socrates'                                                  TRUE (1.0, 1.0)\n",
      "\n",
      "***************************************************************************\n"
     ]
    }
   ],
   "source": [
    "# Create a model\n",
    "model = lnn.Model()\n",
    "\n",
    "# Create variables. Here I follow the Prolog convention of capitals, they like lowercase\n",
    "X = lnn.Variable('X')\n",
    "\n",
    "# Create some Predicates (has variables).\n",
    "Man, Mortal = lnn.Predicates('Man', 'Mortal')\n",
    "\n",
    "# Axioms\n",
    "Men_Are_Mortal = lnn.ForAll(X, lnn.Implies(Man(X), Mortal(X)))\n",
    "\n",
    "# What we want to ask\n",
    "who_dies = lnn.Exists(X, Mortal(X))\n",
    "\n",
    "# Add knowledge to the model\n",
    "model.add_knowledge(Man, Mortal, Men_Are_Mortal, who_dies)\n",
    "\n",
    "# Now add data about particular objects / records / people\n",
    "# Note this is classical logic, so the truth is basically just \"TRUE\" or \"FALSE\"\n",
    "model.add_data({\n",
    "    Man: {'Socrates': lnn.Fact.TRUE}\n",
    "})\n",
    "\n",
    "# RUN THAT BABY!!\n",
    "model.infer()\n",
    "\n",
    "# SHOW ME THE MONEY!!\n",
    "model.print()"
   ]
  },
  {
   "cell_type": "markdown",
   "id": "eb3f9ba8",
   "metadata": {},
   "source": [
    "So the model agrees that Socrates is mortal and we've re-created the Prolog statements.  Now let's check out why this is so much more verbose than Prolog."
   ]
  },
  {
   "cell_type": "markdown",
   "id": "2425bb59",
   "metadata": {},
   "source": [
    "## Socrates Is Fluid\n",
    "\n",
    "Now, I'm not here to teach you anything about [Real Valued Logic](https://en.wikipedia.org/wiki/%C5%81ukasiewicz_logic) other than it's a pretty integral part of [Neuro Symbolic Artificial Intelligence](https://en.wikipedia.org/wiki/Neuro-symbolic_AI), which happens to be my jam right now.  The idea is we can assign confidence to various kinda truthy statements, which means  *FUCK YEAH PROBABILITY THEORY*.  Get yourself a cup of coffee and a copy of [Durrett](https://bookshop.org/p/books/probability-theory-and-examples-rick-durrett/12965062?ean=9781108473682), super fun shit.\n",
    "\n",
    "Now we let Socrates have his/her/their own identity.  Run the whole thing again to keep the variables clean."
   ]
  },
  {
   "cell_type": "code",
   "execution_count": 16,
   "id": "31d5f69a",
   "metadata": {},
   "outputs": [
    {
     "name": "stdout",
     "output_type": "stream",
     "text": [
      "\n",
      "***************************************************************************\n",
      "                                LNN Model\n",
      "\n",
      "OPEN Exists: (∃0, Mortal(0))                       APPROX_UNKNOWN (0.4, 1.0)\n",
      "\n",
      "AXIOM ForAll: (∀0, (Man(0) → Mortal(0)))                    TRUE (1.0, 1.0)\n",
      "\n",
      "OPEN Implies: (Man(0) → Mortal(0)) \n",
      "'Socrates'                                                  TRUE (1.0, 1.0)\n",
      "\n",
      "OPEN Predicate: Mortal \n",
      "'Socrates'                                         APPROX_UNKNOWN (0.4, 1.0)\n",
      "\n",
      "OPEN Predicate: Man \n",
      "'Socrates'                                         APPROX_UNKNOWN (0.4, 0.7)\n",
      "\n",
      "***************************************************************************\n"
     ]
    }
   ],
   "source": [
    "# Create a model\n",
    "model = lnn.Model()\n",
    "\n",
    "# Create variables. Here I follow the Prolog convention of capitals, they like lowercase\n",
    "X = lnn.Variable('X')\n",
    "\n",
    "# Create some Predicates (has variables).\n",
    "Man, Mortal = lnn.Predicates('Man', 'Mortal')\n",
    "\n",
    "# Axioms\n",
    "Men_Are_Mortal = lnn.ForAll(X, lnn.Implies(Man(X), Mortal(X)))\n",
    "\n",
    "# What we want to ask\n",
    "who_dies = lnn.Exists(X, Mortal(X))\n",
    "\n",
    "# Add knowledge to the model\n",
    "model.add_knowledge(Man, Mortal, Men_Are_Mortal, who_dies)\n",
    "\n",
    "# Now add data about particular objects / records / people\n",
    "model.add_data({\n",
    "    Man: {'Socrates': (0.4, 0.7)}\n",
    "})\n",
    "\n",
    "# RUN THAT BABY!!\n",
    "model.infer()\n",
    "\n",
    "# SHOW ME THE MONEY!!\n",
    "model.print()"
   ]
  },
  {
   "cell_type": "markdown",
   "id": "8daefe5d",
   "metadata": {},
   "source": [
    "So now Socrates is mortal if he is a Man, which he is questioning.  We don't have an answer if Socrates is not a Man, because we don't know if Women are mortal yet."
   ]
  },
  {
   "cell_type": "code",
   "execution_count": 20,
   "id": "2f52f13e",
   "metadata": {},
   "outputs": [
    {
     "name": "stdout",
     "output_type": "stream",
     "text": [
      "\n",
      "***************************************************************************\n",
      "                                LNN Model\n",
      "\n",
      "OPEN Exists: (∃0, Mortal(0))                                TRUE (1.0, 1.0)\n",
      "\n",
      "AXIOM ForAll: (∀0, (Woman(0) → Mortal(0)))                  TRUE (1.0, 1.0)\n",
      "\n",
      "OPEN Implies: (Woman(0) → Mortal(0)) \n",
      "'Plato'                                                     TRUE (1.0, 1.0)\n",
      "'Socrates'                                                  TRUE (1.0, 1.0)\n",
      "\n",
      "AXIOM ForAll: (∀0, (Man(0) → Mortal(0)))                    TRUE (1.0, 1.0)\n",
      "\n",
      "OPEN Implies: (Man(0) → Mortal(0)) \n",
      "'Plato'                                                     TRUE (1.0, 1.0)\n",
      "'Socrates'                                                  TRUE (1.0, 1.0)\n",
      "\n",
      "OPEN Predicate: Mortal \n",
      "'Plato'                                              APPROX_TRUE (0.8, 1.0)\n",
      "'Socrates'                                         APPROX_UNKNOWN (0.4, 1.0)\n",
      "\n",
      "OPEN Predicate: Man \n",
      "'Plato'                                              APPROX_TRUE (0.8, 1.0)\n",
      "'Socrates'                                         APPROX_UNKNOWN (0.4, 0.7)\n",
      "\n",
      "OPEN Predicate: Woman \n",
      "'Socrates'                                         APPROX_UNKNOWN (0.0, 0.5)\n",
      "'Plato'                                                  UNKNOWN (0.0, 1.0)\n",
      "\n",
      "***************************************************************************\n"
     ]
    }
   ],
   "source": [
    "# Create a model\n",
    "model = lnn.Model()\n",
    "\n",
    "# Create variables. Here I follow the Prolog convention of capitals, they like lowercase\n",
    "X = lnn.Variable('X')\n",
    "\n",
    "# Create some Predicates (has variables).\n",
    "Woman, Man, Mortal = lnn.Predicates('Woman', 'Man', 'Mortal')\n",
    "\n",
    "# Axioms\n",
    "Men_Are_Mortal = lnn.ForAll(X, lnn.Implies(Man(X), Mortal(X)))\n",
    "Women_Are_Mortal = lnn.ForAll(X, lnn.Implies(Woman(X), Mortal(X)))\n",
    "\n",
    "# What we want to ask\n",
    "who_dies = lnn.Exists(X, Mortal(X))\n",
    "\n",
    "# Add knowledge to the model\n",
    "model.add_knowledge(Woman, Man, Mortal, Men_Are_Mortal, Women_Are_Mortal, who_dies)\n",
    "\n",
    "# Now add data about particular objects / records / people\n",
    "model.add_data({\n",
    "    Man: {'Socrates': (0.4, 0.7), 'Plato': (0.8, 1.0)},\n",
    "    Woman: {'Socrates': (0, 0.5)}\n",
    "})\n",
    "\n",
    "# RUN THAT BABY!!\n",
    "model.infer()\n",
    "\n",
    "# SHOW ME THE MONEY!!\n",
    "model.print()"
   ]
  },
  {
   "cell_type": "markdown",
   "id": "5b595ed0",
   "metadata": {},
   "source": [
    "If you ask me, this is pretty fun.  Socrates stil has a lot of questioning to do before he comes out as a `Mortal`."
   ]
  },
  {
   "cell_type": "markdown",
   "id": "7a411bb1",
   "metadata": {},
   "source": [
    "# Short Skirt, Long Jacket\n",
    "\n",
    "Turns out some men are just too picky for their own damn good, and the guys from Cake made a nice [satire](https://www.youtube.com/watch?v=X5KmB8Laemg)"
   ]
  },
  {
   "cell_type": "code",
   "execution_count": null,
   "id": "353c0274",
   "metadata": {},
   "outputs": [],
   "source": []
  }
 ],
 "metadata": {
  "kernelspec": {
   "display_name": "Python 3 (ipykernel)",
   "language": "python",
   "name": "python3"
  },
  "language_info": {
   "codemirror_mode": {
    "name": "ipython",
    "version": 3
   },
   "file_extension": ".py",
   "mimetype": "text/x-python",
   "name": "python",
   "nbconvert_exporter": "python",
   "pygments_lexer": "ipython3",
   "version": "3.11.0"
  }
 },
 "nbformat": 4,
 "nbformat_minor": 5
}
