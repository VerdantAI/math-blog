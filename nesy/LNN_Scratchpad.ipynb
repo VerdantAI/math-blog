{
 "cells": [
  {
   "cell_type": "markdown",
   "id": "00744e48",
   "metadata": {},
   "source": [
    "# LNN Scratchpad\n",
    "\n",
    "Here I'll be messing with the [LNN Library](https://github.com/IBM/LNN) from IBM.  I want to recreate some [SWI](https://www.swi-prolog.org/) Prolog style queries as well work with their paradigm.  Hopefully this will be slightly useful to others playing with the library and, of course, to myself!"
   ]
  },
  {
   "cell_type": "code",
   "execution_count": 1,
   "id": "b7061809",
   "metadata": {},
   "outputs": [],
   "source": [
    "import lnn"
   ]
  },
  {
   "cell_type": "markdown",
   "id": "10fe7109",
   "metadata": {},
   "source": [
    "## Socrates \n",
    "\n",
    "He's a man baby, and that makes him mortal.  In prolog this is pretty straightforward. In Prolog, the predicates are \"backward\" to me.\n",
    "\n",
    "Nota bene: I understand the modern idiom is to use \"human\", but later on I want to mess with more predicates so I'm sticking with `man` for the moment.  Yay to trans rights, NB-rights, LGTQIA rights AND to concise coding.  Ain't about that right now.\n",
    "\n",
    "You will need a [db](db.pl) file to load with rules in the standard `swipl` fashion and I won't fight that shit.\n",
    "\n",
    "\n",
    "```\n",
    "> [db].\n",
    "True\n",
    "\n",
    "mortal(socrates).\n",
    "True\n",
    "```\n",
    "\n",
    "The LNN library is a bit more verbose. Also, they don't seem to have settled on a coding style guide yet, so I'm using the one from the [API documentation](https://ibm.github.io/LNN/usage.html) and not the [Tutorials](https://github.com/IBM/LNN/tree/master/tutorials).  Don't worry if makes 0 sense to you right now."
   ]
  },
  {
   "cell_type": "code",
   "execution_count": 10,
   "id": "8d177a3e",
   "metadata": {},
   "outputs": [
    {
     "name": "stdout",
     "output_type": "stream",
     "text": [
      "\n",
      "***************************************************************************\n",
      "                                LNN Model\n",
      "\n",
      "OPEN Exists: (∃0, Mortal(0))                                TRUE (1.0, 1.0)\n",
      "\n",
      "AXIOM ForAll: (∀0, (Man(0) → Mortal(0)))                    TRUE (1.0, 1.0)\n",
      "\n",
      "OPEN Implies: (Man(0) → Mortal(0)) \n",
      "'Socrates'                                                  TRUE (1.0, 1.0)\n",
      "\n",
      "OPEN Predicate: Mortal \n",
      "'Socrates'                                                  TRUE (1.0, 1.0)\n",
      "\n",
      "OPEN Predicate: Man \n",
      "'Socrates'                                                  TRUE (1.0, 1.0)\n",
      "\n",
      "***************************************************************************\n"
     ]
    }
   ],
   "source": [
    "# Create a model\n",
    "model = lnn.Model()\n",
    "\n",
    "# Create variables. Here I follow the Prolog convention of capitals, they like lowercase\n",
    "X = lnn.Variable('X')\n",
    "\n",
    "# Create some Predicates (has variables).\n",
    "Man, Mortal = lnn.Predicates('Man', 'Mortal')\n",
    "\n",
    "# Axioms\n",
    "Men_Are_Mortal = lnn.ForAll(X, lnn.Implies(Man(X), Mortal(X)))\n",
    "\n",
    "# What we want to ask\n",
    "who_dies = lnn.Exists(X, Mortal(X))\n",
    "\n",
    "# Add knowledge to the model\n",
    "model.add_knowledge(Man, Mortal, Men_Are_Mortal, who_dies)\n",
    "\n",
    "# Now add data about particular objects / records / people\n",
    "# Note this is classical logic, so the truth is basically just \"TRUE\" or \"FALSE\"\n",
    "model.add_data({\n",
    "    Man: {'Socrates': lnn.Fact.TRUE}\n",
    "})\n",
    "\n",
    "# RUN THAT BABY!!\n",
    "model.infer()\n",
    "\n",
    "# SHOW ME THE MONEY!!\n",
    "model.print()"
   ]
  },
  {
   "cell_type": "markdown",
   "id": "455dfbdd",
   "metadata": {},
   "source": [
    "So the model agrees that Socrates is mortal and we've re-created the Prolog statements.  Now let's check out why this is so much more verbose than Prolog."
   ]
  },
  {
   "cell_type": "code",
   "execution_count": null,
   "id": "b730ae2e",
   "metadata": {},
   "outputs": [],
   "source": []
  }
 ],
 "metadata": {
  "kernelspec": {
   "display_name": "Python 3 (ipykernel)",
   "language": "python",
   "name": "python3"
  },
  "language_info": {
   "codemirror_mode": {
    "name": "ipython",
    "version": 3
   },
   "file_extension": ".py",
   "mimetype": "text/x-python",
   "name": "python",
   "nbconvert_exporter": "python",
   "pygments_lexer": "ipython3",
   "version": "3.11.0"
  }
 },
 "nbformat": 4,
 "nbformat_minor": 5
}
