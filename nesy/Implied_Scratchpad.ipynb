{
 "cells": [
  {
   "cell_type": "markdown",
   "id": "c9e4df68",
   "metadata": {},
   "source": [
    "# Implied Scratchpad\n",
    "\n",
    "Wherein we mess with the \"implies\" function in the LNN library.  Inspired by [this test file](https://github.com/IBM/LNN/blob/master/tests/learning/propositional/test_bool_implies_1.py).  Since I don't know the language of the FOL community that well, I'm just gonna break shit.\n",
    "\n",
    "A video on [LNN-EL](https://aclanthology.org/2021.acl-long.64.mp4)"
   ]
  },
  {
   "cell_type": "code",
   "execution_count": 33,
   "id": "01abe9b5",
   "metadata": {},
   "outputs": [],
   "source": [
    "from lnn import Model, Implies, Proposition, World, Direction, Fact, Loss, Predicates, Predicate\n",
    "\n",
    "TRUE = Fact.TRUE\n",
    "FALSE = Fact.FALSE\n",
    "UNKNOWN = Fact.UNKNOWN"
   ]
  },
  {
   "cell_type": "markdown",
   "id": "e29db2f5",
   "metadata": {},
   "source": [
    "I need a deeper understanding of how `world.AXIOM` affects the logic.  This is because my FOL chops aren't what they need to be.  From the docs `world`\n",
    "\n",
    "* AXIOM – Formulae that follow assumptions of universally being TRUE\n",
    "* CONTRADICTION – Formulae that are in a contradictory state\n",
    "* CLOSED – Formulae that follow the closed world assumption\n",
    "* FALSE – Alias for CLOSED\n",
    "* OPEN – Formulae that follow the open world assumption"
   ]
  },
  {
   "cell_type": "code",
   "execution_count": 55,
   "id": "7da61b6e",
   "metadata": {},
   "outputs": [
    {
     "name": "stdout",
     "output_type": "stream",
     "text": [
      "\n",
      "***************************************************************************\n",
      "                                LNN Model\n",
      "\n",
      "AXIOM Implies: (LHS → RHS)                                  TRUE (1.0, 1.0)\n",
      "params  α: 1.0,  β: 0.0,  w: [1. 1.]\n",
      "OPEN Proposition: RHS                                      FALSE (0.0, 0.0)\n",
      "params  α: 1.0\n",
      "OPEN Proposition: LHS                                       TRUE (1.0, 1.0)\n",
      "params  α: 1.0\n",
      "***************************************************************************\n"
     ]
    }
   ],
   "source": [
    "model = Model()\n",
    "LHS = Proposition(\"LHS\")\n",
    "RHS = Proposition(\"RHS\")\n",
    "# Changing this from World.AXIOM to World.CLOSED makes AB True -> False\n",
    "AB = Implies(LHS, RHS, world=World.AXIOM) # AB -> TRUE\n",
    "#AB = Implies(LHS, RHS, world=World.OPEN)  # AB -> FALSE\n",
    "#AB = Implies(LHS, RHS, world=World.CLOSED) # AB -> FALSE\n",
    "model.add_knowledge(AB)\n",
    "model.add_data({LHS: TRUE, RHS: FALSE})\n",
    "model.train(direction=Direction.UPWARD, losses=[Loss.CONTRADICTION])\n",
    "model.print(params=True)\n",
    "bias = AB.params(\"bias\")\n",
    "bounds = AB.state()\n"
   ]
  },
  {
   "cell_type": "code",
   "execution_count": 41,
   "id": "807f690c",
   "metadata": {},
   "outputs": [
    {
     "name": "stdout",
     "output_type": "stream",
     "text": [
      "\n",
      "***************************************************************************\n",
      "                                LNN Model\n",
      "\n",
      "OPEN Implies: (LHS(0) → RHS(1)) \n",
      "params  α: 1.0,  β: 1.0,  w: [1. 1.]\n",
      "('x', 'y')                                                  TRUE (1.0, 1.0)\n",
      "('x', 'y2')                                         APPROX_FALSE (0.1, 0.4)\n",
      "('x2', 'y2')                                        APPROX_FALSE (0.1, 0.4)\n",
      "('x2', 'y')                                                 TRUE (1.0, 1.0)\n",
      "\n",
      "OPEN Predicate: RHS \n",
      "params  α: 1.0\n",
      "'y'                                                         TRUE (1.0, 1.0)\n",
      "'y2'                                                APPROX_FALSE (0.1, 0.4)\n",
      "\n",
      "OPEN Predicate: LHS \n",
      "params  α: 1.0\n",
      "'x'                                                         TRUE (1.0, 1.0)\n",
      "'x2'                                                        TRUE (1.0, 1.0)\n",
      "\n",
      "***************************************************************************\n"
     ]
    }
   ],
   "source": [
    "# Sanity check, RHS is now TRUE and now LHS, RHS are Predicates\n",
    "model = Model()\n",
    "LHS = Predicate(\"LHS\")\n",
    "RHS = Predicate(\"RHS\")\n",
    "#AB = Implies(LHS, RHS, world=World.AXIOM) # AB -> TRUE\n",
    "AB = Implies(LHS, RHS, world=World.OPEN)  # AB -> TRUE\n",
    "#AB = Implies(LHS, RHS, world=World.CLOSED) # AB -> FALSE\n",
    "model.add_knowledge(AB)\n",
    "model.add_data({\n",
    "    LHS: {'x': TRUE, 'x2': TRUE},\n",
    "    RHS: {'y': TRUE, 'y2': (0.1, 0.4)}\n",
    "})\n",
    "model.train(direction=Direction.UPWARD, losses=[Loss.CONTRADICTION])\n",
    "model.print(params=True)\n",
    "bias = AB.params(\"bias\")"
   ]
  },
  {
   "cell_type": "markdown",
   "id": "1810a2dc",
   "metadata": {},
   "source": [
    "## Get a Weight?\n",
    "\n",
    "Okay, I'm definitely not using this correctly.  I'm trying to find the general \"truthiness\" of the rule \"A implies B\" by feeding the system data.  I think I need to get through the `train` routine like in the [supervised test case](https://github.com/IBM/LNN/blob/master/tests/learning/propositional/test_supervised_1.py)"
   ]
  },
  {
   "cell_type": "code",
   "execution_count": 53,
   "id": "cff69ee3",
   "metadata": {},
   "outputs": [
    {
     "name": "stdout",
     "output_type": "stream",
     "text": [
      "\n",
      "***************************************************************************\n",
      "                                LNN Model\n",
      "\n",
      "AXIOM ForAll: (∀0, (LHS(0) → RHS(0)))                       TRUE (1.0, 1.0)\n",
      "params  α: 1.0,  β: 1.0,  w: [1. 1. 1. 1.]\n",
      "OPEN Implies: (LHS(0) → RHS(0)) \n",
      "params  α: 1.0,  β: 1.0,  w: [1. 1.]\n",
      "'x'                                                         TRUE (1.0, 1.0)\n",
      "'y'                                                         TRUE (1.0, 1.0)\n",
      "'x2'                                                        TRUE (1.0, 1.0)\n",
      "'y2'                                                        TRUE (1.0, 1.0)\n",
      "\n",
      "OPEN Predicate: RHS \n",
      "params  α: 1.0\n",
      "'y'                                                         TRUE (1.0, 1.0)\n",
      "'y2'                                                APPROX_FALSE (0.1, 0.4)\n",
      "'x'                                                         TRUE (1.0, 1.0)\n",
      "'x2'                                                 APPROX_TRUE (0.8, 1.0)\n",
      "\n",
      "OPEN Predicate: LHS \n",
      "params  α: 1.0\n",
      "'x'                                                         TRUE (1.0, 1.0)\n",
      "'x2'                                                 APPROX_TRUE (0.8, 1.0)\n",
      "'y'                                                      UNKNOWN (0.0, 1.0)\n",
      "'y2'                                                APPROX_FALSE (0.0, 0.4)\n",
      "\n",
      "***************************************************************************\n",
      "Fact.TRUE\n"
     ]
    }
   ],
   "source": [
    "# Sanity check, RHS is now TRUE and now LHS, RHS are Predicates\n",
    "model = Model()\n",
    "X = lnn.Variable('X')\n",
    "LHS = Predicate(\"LHS\")\n",
    "RHS = Predicate(\"RHS\")\n",
    "#AB = lnn.ForAll(X, lnn.Implies(LHS(X), RHS(X), world=World.AXIOM))\n",
    "AB = lnn.ForAll(X, lnn.Implies(LHS(X), RHS(X), world=World.OPEN))\n",
    "#AB = lnn.ForAll(X, lnn.Implies(LHS(X), RHS(X), world=World.CLOSED))\n",
    "model.add_knowledge(AB)\n",
    "model.add_data({\n",
    "    LHS: {'x': TRUE, 'x2': (0.8, 1.0)},\n",
    "    RHS: {'y': TRUE, 'y2': (0.1, 0.4)}\n",
    "})\n",
    "model.train(direction=Direction.UPWARD, losses=[Loss.SUPERVISED, Loss.CONTRADICTION])\n",
    "model.print(params=True)\n",
    "bias = AB.params(\"bias\")\n",
    "print(AB.state())"
   ]
  }
 ],
 "metadata": {
  "kernelspec": {
   "display_name": "Python 3 (ipykernel)",
   "language": "python",
   "name": "python3"
  },
  "language_info": {
   "codemirror_mode": {
    "name": "ipython",
    "version": 3
   },
   "file_extension": ".py",
   "mimetype": "text/x-python",
   "name": "python",
   "nbconvert_exporter": "python",
   "pygments_lexer": "ipython3",
   "version": "3.10.6"
  }
 },
 "nbformat": 4,
 "nbformat_minor": 5
}
